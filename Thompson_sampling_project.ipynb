{
  "nbformat": 4,
  "nbformat_minor": 0,
  "metadata": {
    "colab": {
      "name": "Thompson_sampling project.ipynb",
      "provenance": [],
      "collapsed_sections": []
    },
    "kernelspec": {
      "name": "python3",
      "display_name": "Python 3"
    }
  },
  "cells": [
    {
      "cell_type": "markdown",
      "metadata": {
        "id": "vPKTIRAtx232"
      },
      "source": [
        "# Thompson Sampling"
      ]
    },
    {
      "cell_type": "markdown",
      "metadata": {
        "id": "PqPv9zpAx-EE"
      },
      "source": [
        "## Importing the libraries"
      ]
    },
    {
      "cell_type": "code",
      "metadata": {
        "id": "sWNe8KcmAa0H"
      },
      "source": [
        "import numpy as np\n",
        "import matplotlib.pyplot as plt\n",
        "import pandas as pd"
      ],
      "execution_count": 1,
      "outputs": []
    },
    {
      "cell_type": "markdown",
      "metadata": {
        "id": "iqpVk5HhyGmO"
      },
      "source": [
        "## Importing the dataset"
      ]
    },
    {
      "cell_type": "code",
      "metadata": {
        "id": "1HmsyfnMAwVM"
      },
      "source": [
        "dataset = pd.read_csv('Ads_CTR_Optimisation.csv')"
      ],
      "execution_count": 2,
      "outputs": []
    },
    {
      "cell_type": "markdown",
      "metadata": {
        "id": "WqoXeWOYyQhB"
      },
      "source": [
        "## Implementing Thompson Sampling"
      ]
    },
    {
      "cell_type": "code",
      "metadata": {
        "id": "p5_NtO7yBEfl"
      },
      "source": [
        "import random\n",
        "\n",
        "N = 1000\n",
        "d = 10\n",
        "ads_selected = []\n",
        "numbers_of_rewards_0 = [0]*d\n",
        "numbers_of_rewards_1 = [0]*d\n",
        "total_reward = 0\n",
        "\n",
        "for n in range(0,N):\n",
        "  ad = 0\n",
        "  max_random = 0\n",
        "  for i in range(0,d):\n",
        "    random_beta = random.betavariate(numbers_of_rewards_1[i] + 1, numbers_of_rewards_0[i] + 1)\n",
        "    if (random_beta>max_random):\n",
        "      max_random = random_beta\n",
        "      ad = i\n",
        "  ads_selected.append(ad)\n",
        "  reward = dataset.values[n,ad]\n",
        "  if reward == 1:\n",
        "    numbers_of_rewards_1[ad] += 1\n",
        "  else:\n",
        "    numbers_of_rewards_0[ad] += 1\n",
        "  total_reward += reward"
      ],
      "execution_count": 3,
      "outputs": []
    },
    {
      "cell_type": "markdown",
      "metadata": {
        "id": "tweWsgTHyXhv"
      },
      "source": [
        "## Visualising the results - Histogram"
      ]
    },
    {
      "cell_type": "code",
      "metadata": {
        "colab": {
          "base_uri": "https://localhost:8080/",
          "height": 295
        },
        "id": "9-k6XnLfCJZl",
        "outputId": "c1b9673a-ec5d-4856-ce10-2ee99ed6766f"
      },
      "source": [
        "plt.hist(ads_selected)\n",
        "plt.title('Histogram of ads selected')\n",
        "plt.xlabel('Ads')\n",
        "plt.ylabel('No. of times each ads get selected')\n",
        "plt.show()"
      ],
      "execution_count": 4,
      "outputs": [
        {
          "output_type": "display_data",
          "data": {
            "text/plain": [
              "<Figure size 432x288 with 1 Axes>"
            ],
            "image/png": "[encoded data removed]"
          },
          "metadata": {
            "needs_background": "light"
          }
        }
      ]
    }
  ]
}